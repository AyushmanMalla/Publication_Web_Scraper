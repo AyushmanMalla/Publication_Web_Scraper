{
 "cells": [
  {
   "cell_type": "code",
   "execution_count": null,
   "metadata": {},
   "outputs": [],
   "source": [
    "import pandas as pd\n",
    "import numpy as np\n",
    "import urllib.request, urllib.parse, urllib.error\n",
    "from bs4 import BeautifulSoup\n",
    "import ssl\n",
    "import time\n",
    "\n",
    "# Ignore SSL certificate errors\n",
    "ctx = ssl.create_default_context()\n",
    "ctx.check_hostname = False\n",
    "ctx.verify_mode = ssl.CERT_NONE\n",
    "\n",
    "\n",
    "url = \"https://ieeexplore.ieee.org/search/searchresult.jsp?action=search&newsearch=true&matchBoolean=true&queryText=(%22Author%20Affiliations%22:{})&ranges=1960_2023_Year)\"\n",
    "\n",
    "def html_call(url):\n",
    "    html = urllib.request.urlopen(url, context=ctx).read()\n",
    "    soup = BeautifulSoup(html, 'html.parser')\n",
    "    print(soup.find_all('h1 _ngcontent-vem-c102=\"\" class=\"Dashboard-header col-12\"'))\n"
   ]
  },
  {
   "attachments": {},
   "cell_type": "markdown",
   "metadata": {},
   "source": [
    "<H4>GET THE DATA INTO PYTHON TO BE MANIPULATED AND CREATE THE URL LIST</H4>"
   ]
  },
  {
   "cell_type": "code",
   "execution_count": null,
   "metadata": {},
   "outputs": [],
   "source": [
    "m = pd.read_excel('')                            #INSERT THE NAME OF THE EXCEL FILE WITH THE LIST OF DEVICE MAKERS.\n",
    "m.head()\n",
    "                                                 # convert the items in the dataframe to a list of strings\n",
    "list_of_strings = []\n",
    "for index, row in m.iterrows():\n",
    "    list_of_strings.append(' '.join([str(row[col]) for col in m.columns]))\n",
    "print(list_of_strings)\n",
    "urls = list()\n",
    "for company in list_of_strings:\n",
    "    urls.append(url.format(company))             # CREATES A LIST OF URLS FOR THE WEBSCRAPER TO ITERATE THROUGH\n",
    "print(len(urls))"
   ]
  },
  {
   "attachments": {},
   "cell_type": "markdown",
   "metadata": {},
   "source": [
    "<H4>CODE TO CHECK IF THE URL WORKS</H4>"
   ]
  },
  {
   "cell_type": "code",
   "execution_count": null,
   "metadata": {},
   "outputs": [],
   "source": [
    "from selenium import webdriver\n",
    "from selenium.webdriver.common.by import By\n",
    "driver = webdriver.Chrome()\n",
    "import time\n",
    "i = 1\n",
    "for company in urls:\n",
    "    driver.get(company)\n",
    "    time.sleep(3)              #DELAY ADDED IN TO MAKE SURE THE USER CAN SEE THE PAGE LONG ENOUGH TO NOTICE IT\n",
    "\n",
    "\n"
   ]
  },
  {
   "attachments": {},
   "cell_type": "markdown",
   "metadata": {},
   "source": [
    "<H4>FINALLY, USE SELENIUM TO INTERACT WITH THE WEBSITE</H4>"
   ]
  },
  {
   "cell_type": "code",
   "execution_count": null,
   "metadata": {},
   "outputs": [],
   "source": [
    "from selenium.webdriver.support.ui import WebDriverWait\n",
    "from selenium.webdriver.support import expected_conditions as EC\n",
    "\n",
    "# Set up the web driver\n",
    "driver = webdriver.Chrome()\n",
    "\n",
    "for company in urls:\n",
    "    driver.get(company)\n",
    "    # Wait for the Export button to be clickable and click it\n",
    "    try:\n",
    "         export_button = WebDriverWait(driver, 30).until(EC.element_to_be_clickable((By.XPATH, \"/html/body/div[5]/div/div/div[3]/div/xpl-root/main/div/xpl-search-results/div/div[1]/div[1]/ul/li[1]/xpl-export-search-results/button\"))\n",
    ")\n",
    "         export_button.click()\n",
    "    except:\n",
    "         try:\n",
    "             export_button = WebDriverWait(driver, 30).until(EC.element_to_be_clickable((By.XPATH, \"/html/body/div[5]/div/div/div[3]/div/xpl-root/main/div/xpl-search-results/div/div[1]/div[1]/ul/li[2]/xpl-export-search-results/button\")))\n",
    "             export_button.click()\n",
    "         except:\n",
    "            print('Company not found: ' + company)\n",
    "            continue\n",
    "\n",
    "\n",
    "         \n",
    "\n",
    "    \n",
    "# Get the current `body` tag element\n",
    "    body = driver.find_element(By.TAG_NAME, \"body\")\n",
    "# Use JavaScript to modify the `style` attribute of the `body` tag\n",
    "    driver.execute_script(\"arguments[0].setAttribute('style', 'overflow: visible;')\", body)\n",
    "\n",
    "# Wait for the modal title to appear\n",
    "    wait = WebDriverWait(driver, 20)\n",
    "    title = wait.until(EC.visibility_of_element_located((By.XPATH, \"/html/body/ngb-modal-window/div/div\")))\n",
    "    export_csv = driver.find_element(By.XPATH, \"/html/body/ngb-modal-window/div/div/div[2]/div/div/div[2]/button\")\n",
    "    export_csv.click()\n",
    "    WebDriverWait(driver, 200).until(EC.invisibility_of_element_located((By.XPATH, \"/html/body/ngb-modal-window/div/div/div[2]/div/div/div[2]/button\")))\n",
    "\n"
   ]
  },
  {
   "attachments": {},
   "cell_type": "markdown",
   "metadata": {},
   "source": [
    "<h4>ADD THE DIRECTORY OF THE DOWNLOADED FILES INTO A PATH VARIABLE AND ADD IN A COMPANY COLUMN TO EVERY FILE</h4>"
   ]
  },
  {
   "cell_type": "code",
   "execution_count": null,
   "metadata": {},
   "outputs": [],
   "source": [
    "import glob\n",
    "import pandas as pd\n",
    "from pathlib import Path\n",
    "q = list()\n",
    "i = 0\n",
    "path = r\"C:\\Users\\Ayushman\\Downloads\\test_2\\*.csv\"\n",
    "for fname in glob.glob(path):\n",
    "    x = pd.read_csv(fname, sep='\\t')\n",
    "    x['Company'] = list_of_strings[i]\n",
    "    i += 1\n",
    "    x.to_csv(fname)"
   ]
  },
  {
   "attachments": {},
   "cell_type": "markdown",
   "metadata": {},
   "source": [
    "<H4>COMBINE ALL THE CSV FILES INTO ONE EXCEL FILE</H4>"
   ]
  }
 ],
 "metadata": {
  "language_info": {
   "name": "python"
  },
  "orig_nbformat": 4
 },
 "nbformat": 4,
 "nbformat_minor": 2
}
